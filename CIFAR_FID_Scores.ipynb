{
  "nbformat": 4,
  "nbformat_minor": 0,
  "metadata": {
    "colab": {
      "provenance": [],
      "gpuType": "T4",
      "authorship_tag": "ABX9TyNS+1UH4AQNVuE2g+WsGd3z",
      "include_colab_link": true
    },
    "kernelspec": {
      "name": "python3",
      "display_name": "Python 3"
    },
    "language_info": {
      "name": "python"
    },
    "accelerator": "GPU"
  },
  "cells": [
    {
      "cell_type": "markdown",
      "metadata": {
        "id": "view-in-github",
        "colab_type": "text"
      },
      "source": [
        "<a href=\"https://colab.research.google.com/github/JeKo2022/Safeguarding_Eval_Red-teaming/blob/main/CIFAR_FID_Scores.ipynb\" target=\"_parent\"><img src=\"https://colab.research.google.com/assets/colab-badge.svg\" alt=\"Open In Colab\"/></a>"
      ]
    },
    {
      "cell_type": "markdown",
      "source": [
        "Pythorch FID: https://pytorch.org/ignite/generated/ignite.metrics.FID.html\n"
      ],
      "metadata": {
        "id": "jVUpSLBYVlKe"
      }
    },
    {
      "cell_type": "markdown",
      "source": [
        "The Fréchet inception distance (FID) is a metric used to assess the quality of images created by a generative model, like a generative adversarial network (GAN). (source: https://en.wikipedia.org/wiki/Fr%C3%A9chet_inception_distance,\n",
        "Sept 2024).\n",
        "This Notebook uses CIFAR dataset and is merely to illustrate how FID works (normally one would compare real and fake images).  "
      ],
      "metadata": {
        "id": "PPSi85mGa6gV"
      }
    },
    {
      "cell_type": "code",
      "source": [
        "\n",
        "!pip install torch torchvision torchaudio\n",
        "!pip install pytorch-fid"
      ],
      "metadata": {
        "colab": {
          "base_uri": "https://localhost:8080/"
        },
        "id": "Rv21ZvMgVtvM",
        "outputId": "ecfd99f8-14b3-46a0-f24e-a11c8f1a7b3d"
      },
      "execution_count": 24,
      "outputs": [
        {
          "output_type": "stream",
          "name": "stdout",
          "text": [
            "Requirement already satisfied: torch in /usr/local/lib/python3.10/dist-packages (2.4.0+cu121)\n",
            "Requirement already satisfied: torchvision in /usr/local/lib/python3.10/dist-packages (0.19.0+cu121)\n",
            "Requirement already satisfied: torchaudio in /usr/local/lib/python3.10/dist-packages (2.4.0+cu121)\n",
            "Requirement already satisfied: filelock in /usr/local/lib/python3.10/dist-packages (from torch) (3.15.4)\n",
            "Requirement already satisfied: typing-extensions>=4.8.0 in /usr/local/lib/python3.10/dist-packages (from torch) (4.12.2)\n",
            "Requirement already satisfied: sympy in /usr/local/lib/python3.10/dist-packages (from torch) (1.13.2)\n",
            "Requirement already satisfied: networkx in /usr/local/lib/python3.10/dist-packages (from torch) (3.3)\n",
            "Requirement already satisfied: jinja2 in /usr/local/lib/python3.10/dist-packages (from torch) (3.1.4)\n",
            "Requirement already satisfied: fsspec in /usr/local/lib/python3.10/dist-packages (from torch) (2024.6.1)\n",
            "Requirement already satisfied: numpy in /usr/local/lib/python3.10/dist-packages (from torchvision) (1.26.4)\n",
            "Requirement already satisfied: pillow!=8.3.*,>=5.3.0 in /usr/local/lib/python3.10/dist-packages (from torchvision) (9.4.0)\n",
            "Requirement already satisfied: MarkupSafe>=2.0 in /usr/local/lib/python3.10/dist-packages (from jinja2->torch) (2.1.5)\n",
            "Requirement already satisfied: mpmath<1.4,>=1.1.0 in /usr/local/lib/python3.10/dist-packages (from sympy->torch) (1.3.0)\n",
            "Requirement already satisfied: pytorch-fid in /usr/local/lib/python3.10/dist-packages (0.3.0)\n",
            "Requirement already satisfied: numpy in /usr/local/lib/python3.10/dist-packages (from pytorch-fid) (1.26.4)\n",
            "Requirement already satisfied: pillow in /usr/local/lib/python3.10/dist-packages (from pytorch-fid) (9.4.0)\n",
            "Requirement already satisfied: scipy in /usr/local/lib/python3.10/dist-packages (from pytorch-fid) (1.13.1)\n",
            "Requirement already satisfied: torch>=1.0.1 in /usr/local/lib/python3.10/dist-packages (from pytorch-fid) (2.4.0+cu121)\n",
            "Requirement already satisfied: torchvision>=0.2.2 in /usr/local/lib/python3.10/dist-packages (from pytorch-fid) (0.19.0+cu121)\n",
            "Requirement already satisfied: filelock in /usr/local/lib/python3.10/dist-packages (from torch>=1.0.1->pytorch-fid) (3.15.4)\n",
            "Requirement already satisfied: typing-extensions>=4.8.0 in /usr/local/lib/python3.10/dist-packages (from torch>=1.0.1->pytorch-fid) (4.12.2)\n",
            "Requirement already satisfied: sympy in /usr/local/lib/python3.10/dist-packages (from torch>=1.0.1->pytorch-fid) (1.13.2)\n",
            "Requirement already satisfied: networkx in /usr/local/lib/python3.10/dist-packages (from torch>=1.0.1->pytorch-fid) (3.3)\n",
            "Requirement already satisfied: jinja2 in /usr/local/lib/python3.10/dist-packages (from torch>=1.0.1->pytorch-fid) (3.1.4)\n",
            "Requirement already satisfied: fsspec in /usr/local/lib/python3.10/dist-packages (from torch>=1.0.1->pytorch-fid) (2024.6.1)\n",
            "Requirement already satisfied: MarkupSafe>=2.0 in /usr/local/lib/python3.10/dist-packages (from jinja2->torch>=1.0.1->pytorch-fid) (2.1.5)\n",
            "Requirement already satisfied: mpmath<1.4,>=1.1.0 in /usr/local/lib/python3.10/dist-packages (from sympy->torch>=1.0.1->pytorch-fid) (1.3.0)\n"
          ]
        }
      ]
    },
    {
      "cell_type": "code",
      "source": [
        "\n",
        "import torch\n",
        "from torchvision import datasets, transforms\n",
        "from torch.utils.data import DataLoader\n",
        "import os\n",
        "import shutil\n",
        "from pytorch_fid import fid_score"
      ],
      "metadata": {
        "id": "h-7f7V-1Wbjg"
      },
      "execution_count": 6,
      "outputs": []
    },
    {
      "cell_type": "code",
      "source": [
        "# Step 3: Download CIFAR-10 dataset and create sample folders\n",
        "#convert image to tensors for resize and processing after\n",
        "transform = transforms.Compose([\n",
        "    transforms.Resize(299),  # Inception expects 299x299 images\n",
        "    transforms.ToTensor(),\n",
        "])\n",
        "\n",
        "# Download CIFAR-10 dataset\n",
        "cifar10 = datasets.CIFAR10(root='./data', download=True, transform=transform)\n",
        "\n",
        "# Create directories for sample images\n",
        "os.makedirs('real_images', exist_ok=True)\n",
        "os.makedirs('generated_images', exist_ok=True)"
      ],
      "metadata": {
        "colab": {
          "base_uri": "https://localhost:8080/"
        },
        "id": "Y4gUpdVjWevR",
        "outputId": "76455ae4-adc3-4e0f-ced5-07d1baff5eee"
      },
      "execution_count": 11,
      "outputs": [
        {
          "output_type": "stream",
          "name": "stdout",
          "text": [
            "Files already downloaded and verified\n"
          ]
        }
      ]
    },
    {
      "cell_type": "markdown",
      "source": [
        "Test: Images are the same so FID score should be close to zero."
      ],
      "metadata": {
        "id": "pB62gPnbZa9X"
      }
    },
    {
      "cell_type": "code",
      "source": [
        "# Copy a small subset of images to 'real_images' and 'generated_images' folders\n",
        "for i in range(100):  # Adjust the number of images as needed\n",
        "    img_tensor, _ = cifar10[i]  # Get the image tensor and ignore the label\n",
        "    img = transforms.ToPILImage()(img_tensor)  # Convert tensor to PIL Image\n",
        "    img.save(f'real_images/img_{i}.png')\n",
        "    img.save(f'generated_images/img_{i}.png')"
      ],
      "metadata": {
        "id": "lEiSYQOXWted"
      },
      "execution_count": 13,
      "outputs": []
    },
    {
      "cell_type": "code",
      "source": [
        "# Step 4: Calculate FID score between the real and generated images\n",
        "fid_value = fid_score.calculate_fid_given_paths(['real_images', 'generated_images'],\n",
        "                                                batch_size=50,\n",
        "                                                device='cuda' if torch.cuda.is_available() else 'cpu',\n",
        "                                                dims=2048)"
      ],
      "metadata": {
        "colab": {
          "base_uri": "https://localhost:8080/"
        },
        "id": "mTiz3InUVwwF",
        "outputId": "f790e089-3dca-4f3c-ec8c-9b4bddd4ab96"
      },
      "execution_count": 14,
      "outputs": [
        {
          "output_type": "stream",
          "name": "stderr",
          "text": [
            "100%|██████████| 2/2 [00:01<00:00,  1.21it/s]\n",
            "100%|██████████| 2/2 [00:00<00:00,  2.49it/s]\n"
          ]
        }
      ]
    },
    {
      "cell_type": "code",
      "source": [
        "print(f'FID Score: {fid_value}')"
      ],
      "metadata": {
        "colab": {
          "base_uri": "https://localhost:8080/"
        },
        "id": "PwoIfjBDVwyl",
        "outputId": "90c831f3-38df-4b84-fff0-9b648f6c99d9"
      },
      "execution_count": 15,
      "outputs": [
        {
          "output_type": "stream",
          "name": "stdout",
          "text": [
            "FID Score: -6.65242810100608e-05\n"
          ]
        }
      ]
    },
    {
      "cell_type": "code",
      "source": [],
      "metadata": {
        "id": "NJqybpj3Vw1P"
      },
      "execution_count": null,
      "outputs": []
    },
    {
      "cell_type": "markdown",
      "source": [
        "TEST: applying a simple transformation but images are still the same - score should go up."
      ],
      "metadata": {
        "id": "9jrYf-C6ZS3G"
      }
    },
    {
      "cell_type": "code",
      "source": [
        "# Copy a small subset of images to 'real_images' and 'generated_images' folders\n",
        "for i in range(100):  # Adjust the number of images as needed\n",
        "    img_tensor, _ = cifar10[i]  # Get the image tensor and ignore the label\n",
        "    img = transforms.ToPILImage()(img_tensor)  # Convert tensor to PIL Image\n",
        "\n",
        "    # Save the original image to the 'real_images' folder\n",
        "    img.save(f'real_images/img_{i}.png')\n",
        "\n",
        "    # Apply a transformation to create a slightly different image for 'generated_images'\n",
        "    transformed_img = transforms.functional.hflip(img)  # Flip the image horizontally\n",
        "\n",
        "    # Save the transformed image to the 'generated_images' folder\n",
        "    transformed_img.save(f'generated_images/img_{i}.png')"
      ],
      "metadata": {
        "id": "ZfuzElPdVw3_"
      },
      "execution_count": 16,
      "outputs": []
    },
    {
      "cell_type": "code",
      "source": [
        "# Step 4: Calculate FID score between the real and generated images\n",
        "fid_value = fid_score.calculate_fid_given_paths(['real_images', 'generated_images'],\n",
        "                                                batch_size=50,\n",
        "                                                device='cuda' if torch.cuda.is_available() else 'cpu',\n",
        "                                                dims=2048)\n",
        "print(f'FID Score: {fid_value}')"
      ],
      "metadata": {
        "colab": {
          "base_uri": "https://localhost:8080/"
        },
        "id": "wfYikj3bVw6v",
        "outputId": "3de9e5a3-ec2b-4c94-c949-71d2b2a736e5"
      },
      "execution_count": 17,
      "outputs": [
        {
          "output_type": "stream",
          "name": "stderr",
          "text": [
            "100%|██████████| 2/2 [00:01<00:00,  1.89it/s]\n",
            "100%|██████████| 2/2 [00:00<00:00,  2.50it/s]\n"
          ]
        },
        {
          "output_type": "stream",
          "name": "stdout",
          "text": [
            "FID Score: 34.09555126536452\n"
          ]
        }
      ]
    },
    {
      "cell_type": "markdown",
      "source": [
        "Random images, FID score should be high."
      ],
      "metadata": {
        "id": "mQeGWWUuZpS-"
      }
    },
    {
      "cell_type": "code",
      "source": [
        "import random"
      ],
      "metadata": {
        "id": "9iss3HrEVw9Y"
      },
      "execution_count": 19,
      "outputs": []
    },
    {
      "cell_type": "code",
      "source": [
        "\n",
        "\n",
        "# Copy a small subset of random images to 'real_images' and 'generated_images' folders\n",
        "real_indices = random.sample(range(len(cifar10)), 100)  # Randomly select 100 indices for real_images\n",
        "generated_indices = random.sample(range(len(cifar10)), 100)  # Randomly select 100 different indices for generated_images\n",
        "\n",
        "for i in range(100):\n",
        "    # Get a random image tensor for real images\n",
        "    real_img_tensor, _ = cifar10[real_indices[i]]\n",
        "    real_img = transforms.ToPILImage()(real_img_tensor)  # Convert tensor to PIL Image\n",
        "    real_img.save(f'real_images/img_{i}.png')\n",
        "\n",
        "    # Get a different random image tensor for generated images\n",
        "    generated_img_tensor, _ = cifar10[generated_indices[i]]\n",
        "    generated_img = transforms.ToPILImage()(generated_img_tensor)  # Convert tensor to PIL Image\n",
        "    generated_img.save(f'generated_images/img_{i}.png')\n"
      ],
      "metadata": {
        "id": "t6R7P5S4VxAR"
      },
      "execution_count": 20,
      "outputs": []
    },
    {
      "cell_type": "code",
      "source": [
        "# Step 4: Calculate FID score between the real and generated images\n",
        "fid_value = fid_score.calculate_fid_given_paths(['real_images', 'generated_images'],\n",
        "                                                batch_size=50,\n",
        "                                                device='cuda' if torch.cuda.is_available() else 'cpu',\n",
        "                                                dims=2048)\n",
        "print(f'FID Score: {fid_value}')"
      ],
      "metadata": {
        "colab": {
          "base_uri": "https://localhost:8080/"
        },
        "id": "Fv1AQS--VxDD",
        "outputId": "a571986e-042c-4ff4-ee57-4b975138e50d"
      },
      "execution_count": 21,
      "outputs": [
        {
          "output_type": "stream",
          "name": "stderr",
          "text": [
            "100%|██████████| 2/2 [00:00<00:00,  2.45it/s]\n",
            "100%|██████████| 2/2 [00:00<00:00,  2.28it/s]\n"
          ]
        },
        {
          "output_type": "stream",
          "name": "stdout",
          "text": [
            "FID Score: 168.09394773862795\n"
          ]
        }
      ]
    }
  ]
}